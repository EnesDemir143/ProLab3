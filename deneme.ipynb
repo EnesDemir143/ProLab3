{
 "cells": [
  {
   "cell_type": "code",
   "id": "initial_id",
   "metadata": {
    "collapsed": true,
    "ExecuteTime": {
     "end_time": "2024-12-02T12:30:53.694270Z",
     "start_time": "2024-12-02T12:30:37.780167Z"
    }
   },
   "source": [
    "import pandas as pd\n",
    "\n",
    "df = pd.read_excel(\"Data/PROLAB 3 - DATASET.xlsx\")\n",
    "author_position=df[\"author_position\"]\n",
    "author_name=df[\"author_name\"]\n",
    "coauthors=df[\"coauthors\"]\n",
    "paper_title=df[\"paper_title\"]\n",
    "doi=df[\"doi\"]\n",
    "orcid=df[\"orcid\"]\n",
    "\n"
   ],
   "outputs": [],
   "execution_count": 4
  },
  {
   "metadata": {},
   "cell_type": "markdown",
   "source": "Veriler okunup satırlar atandı.",
   "id": "1c927ccd3df6360d"
  },
  {
   "metadata": {},
   "cell_type": "code",
   "outputs": [],
   "execution_count": null,
   "source": "",
   "id": "125ee22121efa9d"
  }
 ],
 "metadata": {
  "kernelspec": {
   "display_name": "Python 3",
   "language": "python",
   "name": "python3"
  },
  "language_info": {
   "codemirror_mode": {
    "name": "ipython",
    "version": 2
   },
   "file_extension": ".py",
   "mimetype": "text/x-python",
   "name": "python",
   "nbconvert_exporter": "python",
   "pygments_lexer": "ipython2",
   "version": "2.7.6"
  }
 },
 "nbformat": 4,
 "nbformat_minor": 5
}
