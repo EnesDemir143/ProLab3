{
 "cells": [
  {
   "cell_type": "code",
   "id": "initial_id",
   "metadata": {
    "collapsed": true,
    "ExecuteTime": {
     "end_time": "2024-12-06T11:34:54.583305Z",
     "start_time": "2024-12-06T11:34:54.581461Z"
    }
   },
   "source": "import pandas as pd\n",
   "outputs": [],
   "execution_count": 3
  },
  {
   "metadata": {
    "ExecuteTime": {
     "end_time": "2024-12-06T11:35:08.307199Z",
     "start_time": "2024-12-06T11:34:54.589808Z"
    }
   },
   "cell_type": "code",
   "source": [
    "df = pd.read_excel(\"Data/PROLAB 3 - DATASET.xlsx\",engine=\"openpyxl\")\n",
    "author_position=df[\"author_position\"]\n",
    "author_name=df[\"author_name\"]\n",
    "coauthors=df[\"coauthors\"]\n",
    "paper_title=df[\"paper_title\"]\n",
    "doi=df[\"doi\"]\n",
    "orcid=df[\"orcid\"]\n"
   ],
   "id": "16442a482d7bd1a6",
   "outputs": [],
   "execution_count": 4
  },
  {
   "metadata": {},
   "cell_type": "markdown",
   "source": "Veriler okunup satırlar atandı.",
   "id": "1c927ccd3df6360d"
  },
  {
   "metadata": {
    "ExecuteTime": {
     "end_time": "2024-12-03T18:29:49.985866Z",
     "start_time": "2024-12-03T18:29:49.982484Z"
    }
   },
   "cell_type": "code",
   "source": [
    "class Orci:\n",
    "\n",
    "    def __init__(self,name):\n",
    "        self.__name = name\n",
    "\n",
    "    def name(self):\n",
    "        return self.__name\n"
   ],
   "id": "48f89071ebaa587c",
   "outputs": [],
   "execution_count": 27
  },
  {
   "metadata": {
    "ExecuteTime": {
     "end_time": "2024-12-03T19:56:51.745752Z",
     "start_time": "2024-12-03T19:56:51.740014Z"
    }
   },
   "cell_type": "code",
   "source": [
    " import string\n",
    "\n",
    "if __name__ == \"__main__\":\n",
    "    names=set()\n",
    "    for namess, orcidss in zip(author_name, orcid):\n",
    "        cleaned_item = ''.join(char for char in namess if char not in string.punctuation).replace(\".\", \"\")\n",
    "        name_list = cleaned_item.split()\n",
    "        rev = name_list[::-1]\n",
    "        rev = \"\".join(rev).replace(\" \", \"\")\n",
    "        name_list=\"\".join(name_list).replace(\" \", \"\")\n",
    "        x=0\n",
    "\n",
    "        # İlk defa kontrol ediyoruz\n",
    "        if len(names) == 0:\n",
    "            names.add(namess)\n",
    "        # Eğer namess, names içindeki herhangi bir öğeyi içeriyorsa\n",
    "        should_add = False\n",
    "        for item in names:\n",
    "            item = item.replace(\" \",\"\").replace(\".\",\"\")\n",
    "            print(\"item:\"+item)\n",
    "            if name_list  in item or rev  in item:\n",
    "                print(\"normal:\"+\"\".join(name_list))\n",
    "                print(\"ters:\"+rev)\n",
    "                break\n",
    "        if x==len(names):\n",
    "            should_add = True\n",
    "        if should_add:\n",
    "            names.add(namess)\n",
    "    for i in names:\n",
    "        print(i)\n",
    "\n",
    "    print(len(names))\n"
   ],
   "id": "125ee22121efa9d",
   "outputs": [
    {
     "name": "stdout",
     "output_type": "stream",
     "text": [
      "item:BRajakumar\n",
      "normal:BRajakumar\n",
      "ters:RajakumarB\n",
      "item:BRajakumar\n",
      "normal:BRajakumar\n",
      "ters:RajakumarB\n",
      "item:BRajakumar\n",
      "normal:BRajakumar\n",
      "ters:RajakumarB\n",
      "item:BRajakumar\n",
      "normal:BRajakumar\n",
      "ters:RajakumarB\n",
      "item:BRajakumar\n",
      "normal:BRajakumar\n",
      "ters:RajakumarB\n",
      "item:BRajakumar\n",
      "normal:BRajakumar\n",
      "ters:RajakumarB\n",
      "item:BRajakumar\n",
      "normal:BRajakumar\n",
      "ters:RajakumarB\n",
      "item:BRajakumar\n",
      "normal:BRajakumar\n",
      "ters:RajakumarB\n",
      "item:BRajakumar\n",
      "normal:BRajakumar\n",
      "ters:RajakumarB\n",
      "item:BRajakumar\n",
      "normal:BRajakumar\n",
      "ters:RajakumarB\n",
      "item:BRajakumar\n",
      "normal:BRajakumar\n",
      "ters:RajakumarB\n",
      "item:BRajakumar\n",
      "normal:BRajakumar\n",
      "ters:RajakumarB\n",
      "item:BRajakumar\n",
      "normal:BRajakumar\n",
      "ters:RajakumarB\n",
      "item:BRajakumar\n",
      "normal:BRajakumar\n",
      "ters:RajakumarB\n",
      "item:BRajakumar\n",
      "normal:BRajakumar\n",
      "ters:RajakumarB\n",
      "item:BRajakumar\n",
      "normal:BRajakumar\n",
      "ters:RajakumarB\n",
      "item:BRajakumar\n",
      "normal:BRajakumar\n",
      "ters:RajakumarB\n",
      "item:BRajakumar\n",
      "normal:BRajakumar\n",
      "ters:RajakumarB\n",
      "item:BRajakumar\n",
      "normal:BRajakumar\n",
      "ters:RajakumarB\n",
      "item:BRajakumar\n",
      "normal:BRajakumar\n",
      "ters:RajakumarB\n",
      "item:BRajakumar\n",
      "normal:BRajakumar\n",
      "ters:RajakumarB\n",
      "item:BRajakumar\n",
      "normal:BRajakumar\n",
      "ters:RajakumarB\n",
      "item:BRajakumar\n",
      "normal:BRajakumar\n",
      "ters:RajakumarB\n",
      "item:BRajakumar\n",
      "normal:BRajakumar\n",
      "ters:RajakumarB\n",
      "item:BRajakumar\n",
      "normal:BRajakumar\n",
      "ters:RajakumarB\n",
      "item:BRajakumar\n",
      "normal:BRajakumar\n",
      "ters:RajakumarB\n",
      "item:BRajakumar\n",
      "normal:BRajakumar\n",
      "ters:RajakumarB\n",
      "item:BRajakumar\n",
      "normal:BRajakumar\n",
      "ters:RajakumarB\n",
      "item:BRajakumar\n",
      "normal:BRajakumar\n",
      "ters:RajakumarB\n",
      "item:BRajakumar\n",
      "normal:BRajakumar\n",
      "ters:RajakumarB\n",
      "item:BRajakumar\n",
      "normal:BRajakumar\n",
      "ters:RajakumarB\n",
      "item:BRajakumar\n",
      "normal:BRajakumar\n",
      "ters:RajakumarB\n",
      "item:BRajakumar\n",
      "normal:SRajakumar\n",
      "ters:RajakumarS\n",
      "item:BRajakumar\n",
      "normal:SRajakumar\n",
      "ters:RajakumarS\n",
      "item:BRajakumar\n",
      "normal:SRajakumar\n",
      "ters:RajakumarS\n",
      "item:BRajakumar\n",
      "normal:SRajakumar\n",
      "ters:RajakumarS\n",
      "item:SRajakumar\n",
      "normal:SRajakumar\n",
      "ters:RajakumarS\n",
      "item:BRajakumar\n",
      "normal:RajakumarS\n",
      "ters:SRajakumar\n",
      "item:BRajakumar\n",
      "normal:RajakumarS\n",
      "ters:SRajakumar\n",
      "item:SRajakumar\n",
      "normal:RajakumarS\n",
      "ters:SRajakumar\n",
      "item:RajakumarS\n",
      "normal:RajalakshmiR\n",
      "ters:RRajalakshmi\n",
      "item:BRajakumar\n",
      "normal:RajalakshmiR\n",
      "ters:RRajalakshmi\n",
      "item:BRajakumar\n",
      "normal:RajalakshmiR\n",
      "ters:RRajalakshmi\n",
      "item:SRajakumar\n",
      "normal:RajalakshmiR\n",
      "ters:RRajalakshmi\n",
      "item:BRajakumar\n",
      "normal:RRajalakshmi\n",
      "ters:RajalakshmiR\n",
      "item:RajakumarS\n",
      "normal:RRajalakshmi\n",
      "ters:RajalakshmiR\n",
      "item:BRajakumar\n",
      "normal:RRajalakshmi\n",
      "ters:RajalakshmiR\n",
      "item:SRajakumar\n",
      "normal:RRajalakshmi\n",
      "ters:RajalakshmiR\n",
      "item:RajalakshmiR\n",
      "normal:RRajalakshmi\n",
      "ters:RajalakshmiR\n",
      "item:BRajakumar\n",
      "normal:RajanChoudhary\n",
      "ters:ChoudharyRajan\n",
      "item:RajakumarS\n",
      "normal:RajanChoudhary\n",
      "ters:ChoudharyRajan\n",
      "item:BRajakumar\n",
      "normal:RajanChoudhary\n",
      "ters:ChoudharyRajan\n",
      "item:SRajakumar\n",
      "normal:RajanChoudhary\n",
      "ters:ChoudharyRajan\n",
      "item:RajalakshmiR\n",
      "normal:RajanChoudhary\n",
      "ters:ChoudharyRajan\n",
      "item:RRajalakshmi\n",
      "normal:RajanChoudhary\n",
      "ters:ChoudharyRajan\n",
      "item:BRajakumar\n",
      "normal:RajanChoudhary\n",
      "ters:ChoudharyRajan\n",
      "item:RajakumarS\n",
      "normal:RajanChoudhary\n",
      "ters:ChoudharyRajan\n",
      "item:BRajakumar\n",
      "normal:RajanChoudhary\n",
      "ters:ChoudharyRajan\n",
      "item:SRajakumar\n",
      "normal:RajanChoudhary\n",
      "ters:ChoudharyRajan\n",
      "item:RajanChoudhary\n",
      "normal:RajanChoudhary\n",
      "ters:ChoudharyRajan\n",
      "item:RajalakshmiR\n",
      "normal:RajanChoudhary\n",
      "ters:ChoudharyRajan\n",
      "item:RRajalakshmi\n",
      "normal:RajanChoudhary\n",
      "ters:ChoudharyRajan\n",
      "B Rajakumar\n",
      "Rajakumar S\n",
      "B. Rajakumar\n",
      "S. Rajakumar\n",
      "Rajan Choudhary\n",
      "Rajalakshmi R\n",
      "R. Rajalakshmi\n",
      "7\n"
     ]
    }
   ],
   "execution_count": 149
  },
  {
   "metadata": {
    "ExecuteTime": {
     "end_time": "2024-12-03T19:17:32.465629Z",
     "start_time": "2024-12-03T19:17:32.463304Z"
    }
   },
   "cell_type": "code",
   "source": "\n",
   "id": "efe9d8feaa88de7f",
   "outputs": [],
   "execution_count": 86
  },
  {
   "metadata": {
    "ExecuteTime": {
     "end_time": "2024-12-03T14:07:48.979639Z",
     "start_time": "2024-12-03T14:07:48.976411Z"
    }
   },
   "cell_type": "code",
   "source": [
    "class Doi:\n",
    "\n",
    "    def __init__(self,paper):\n",
    "        self.paper = paper"
   ],
   "id": "21e4add56e938067",
   "outputs": [],
   "execution_count": 74
  },
  {
   "metadata": {
    "ExecuteTime": {
     "end_time": "2024-12-03T14:07:49.449476Z",
     "start_time": "2024-12-03T14:07:49.427437Z"
    }
   },
   "cell_type": "code",
   "source": [
    "if __name__ == \"__main__\":\n",
    "    dois= set()\n",
    "    for spec,paper in zip(doi,paper_title):\n",
    "        if spec not in dois:\n",
    "            spec=Doi(paper)\n",
    "        dois.add(spec)"
   ],
   "id": "82b835c7abb76f8a",
   "outputs": [],
   "execution_count": 75
  },
  {
   "metadata": {
    "ExecuteTime": {
     "end_time": "2024-12-03T14:07:49.985222Z",
     "start_time": "2024-12-03T14:07:49.978200Z"
    }
   },
   "cell_type": "code",
   "source": [
    "with open(\"/Users/enesdemir/Desktop/ProLab3/enes.txt\", 'w') as f:\n",
    "    for spec in dois:\n",
    "        f.write(f\"{spec.paper}\\n\")"
   ],
   "id": "3a084c35f703ab61",
   "outputs": [],
   "execution_count": 76
  },
  {
   "metadata": {},
   "cell_type": "code",
   "outputs": [],
   "execution_count": null,
   "source": "",
   "id": "e5248ad4c631f265"
  }
 ],
 "metadata": {
  "kernelspec": {
   "display_name": "Python 3",
   "language": "python",
   "name": "python3"
  },
  "language_info": {
   "codemirror_mode": {
    "name": "ipython",
    "version": 2
   },
   "file_extension": ".py",
   "mimetype": "text/x-python",
   "name": "python",
   "nbconvert_exporter": "python",
   "pygments_lexer": "ipython2",
   "version": "2.7.6"
  }
 },
 "nbformat": 4,
 "nbformat_minor": 5
}
