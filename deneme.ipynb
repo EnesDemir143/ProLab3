{
 "cells": [
  {
   "cell_type": "code",
   "id": "initial_id",
   "metadata": {
    "collapsed": true,
    "jupyter": {
     "is_executing": true
    }
   },
   "source": [
    "import time\n",
    "import pandas as pd"
   ],
   "outputs": [],
   "execution_count": null
  },
  {
   "metadata": {
    "jupyter": {
     "is_executing": true
    }
   },
   "cell_type": "code",
   "source": [
    "    start = time.time()\n",
    "    df = pd.read_excel(\"/Users/enesdemir/Desktop/ProLab3/Data/PROLAB 3 - DATASET.xlsx\")\n",
    "    end = time.time()\n"
   ],
   "id": "16442a482d7bd1a6",
   "outputs": [],
   "execution_count": null
  },
  {
   "metadata": {},
   "cell_type": "markdown",
   "source": "Veriler okunup satırlar atandı.",
   "id": "1c927ccd3df6360d"
  },
  {
   "metadata": {
    "ExecuteTime": {
     "end_time": "2024-12-03T18:29:49.985866Z",
     "start_time": "2024-12-03T18:29:49.982484Z"
    }
   },
   "cell_type": "code",
   "source": [
    "class Author:\n",
    "    def __init__(self,name=\"Unknown\",id=0):\n",
    "        self.name = name\n",
    "        self.id = id\n",
    "        self.article= set()\n",
    "\n"
   ],
   "id": "48f89071ebaa587c",
   "outputs": [],
   "execution_count": 27
  },
  {
   "metadata": {
    "ExecuteTime": {
     "end_time": "2024-12-03T19:56:51.745752Z",
     "start_time": "2024-12-03T19:56:51.740014Z"
    }
   },
   "cell_type": "code",
   "source": [
    "if __name__ == \"__main__\":\n",
    "ids=set()\n",
    "    authorsObjects=[]\n",
    "    articlesDict={}\n",
    "\n",
    "    for dois,paper in zip(df[\"doi\"],df[\"paper_title\"]):\n",
    "        articlesDict[dois]=paper\n",
    "\n",
    "    print(len(articlesDict))\n",
    "    print(len(df[\"doi\"]))\n",
    "\n",
    "    for id,name in zip(df[\"orcid\"],df[\"author_name\"]):\n",
    "        if id not in ids:\n",
    "            ids.add(id)\n",
    "            authorsObjects.append(Author(name,id))\n",
    "\n",
    "    for x,y in zip(df[\"doi\"],df[\"author_name\"]):\n",
    "        articlesDict[x]=y\n",
    "\n",
    "\n",
    "    print(len(authorsObjects))\n",
    "    print(len(ids))\n",
    "\n"
   ],
   "id": "125ee22121efa9d",
   "outputs": [
    {
     "name": "stdout",
     "output_type": "stream",
     "text": [
      "item:BRajakumar\n",
      "normal:BRajakumar\n",
      "ters:RajakumarB\n",
      "item:BRajakumar\n",
      "normal:BRajakumar\n",
      "ters:RajakumarB\n",
      "item:BRajakumar\n",
      "normal:BRajakumar\n",
      "ters:RajakumarB\n",
      "item:BRajakumar\n",
      "normal:BRajakumar\n",
      "ters:RajakumarB\n",
      "item:BRajakumar\n",
      "normal:BRajakumar\n",
      "ters:RajakumarB\n",
      "item:BRajakumar\n",
      "normal:BRajakumar\n",
      "ters:RajakumarB\n",
      "item:BRajakumar\n",
      "normal:BRajakumar\n",
      "ters:RajakumarB\n",
      "item:BRajakumar\n",
      "normal:BRajakumar\n",
      "ters:RajakumarB\n",
      "item:BRajakumar\n",
      "normal:BRajakumar\n",
      "ters:RajakumarB\n",
      "item:BRajakumar\n",
      "normal:BRajakumar\n",
      "ters:RajakumarB\n",
      "item:BRajakumar\n",
      "normal:BRajakumar\n",
      "ters:RajakumarB\n",
      "item:BRajakumar\n",
      "normal:BRajakumar\n",
      "ters:RajakumarB\n",
      "item:BRajakumar\n",
      "normal:BRajakumar\n",
      "ters:RajakumarB\n",
      "item:BRajakumar\n",
      "normal:BRajakumar\n",
      "ters:RajakumarB\n",
      "item:BRajakumar\n",
      "normal:BRajakumar\n",
      "ters:RajakumarB\n",
      "item:BRajakumar\n",
      "normal:BRajakumar\n",
      "ters:RajakumarB\n",
      "item:BRajakumar\n",
      "normal:BRajakumar\n",
      "ters:RajakumarB\n",
      "item:BRajakumar\n",
      "normal:BRajakumar\n",
      "ters:RajakumarB\n",
      "item:BRajakumar\n",
      "normal:BRajakumar\n",
      "ters:RajakumarB\n",
      "item:BRajakumar\n",
      "normal:BRajakumar\n",
      "ters:RajakumarB\n",
      "item:BRajakumar\n",
      "normal:BRajakumar\n",
      "ters:RajakumarB\n",
      "item:BRajakumar\n",
      "normal:BRajakumar\n",
      "ters:RajakumarB\n",
      "item:BRajakumar\n",
      "normal:BRajakumar\n",
      "ters:RajakumarB\n",
      "item:BRajakumar\n",
      "normal:BRajakumar\n",
      "ters:RajakumarB\n",
      "item:BRajakumar\n",
      "normal:BRajakumar\n",
      "ters:RajakumarB\n",
      "item:BRajakumar\n",
      "normal:BRajakumar\n",
      "ters:RajakumarB\n",
      "item:BRajakumar\n",
      "normal:BRajakumar\n",
      "ters:RajakumarB\n",
      "item:BRajakumar\n",
      "normal:BRajakumar\n",
      "ters:RajakumarB\n",
      "item:BRajakumar\n",
      "normal:BRajakumar\n",
      "ters:RajakumarB\n",
      "item:BRajakumar\n",
      "normal:BRajakumar\n",
      "ters:RajakumarB\n",
      "item:BRajakumar\n",
      "normal:BRajakumar\n",
      "ters:RajakumarB\n",
      "item:BRajakumar\n",
      "normal:BRajakumar\n",
      "ters:RajakumarB\n",
      "item:BRajakumar\n",
      "normal:SRajakumar\n",
      "ters:RajakumarS\n",
      "item:BRajakumar\n",
      "normal:SRajakumar\n",
      "ters:RajakumarS\n",
      "item:BRajakumar\n",
      "normal:SRajakumar\n",
      "ters:RajakumarS\n",
      "item:BRajakumar\n",
      "normal:SRajakumar\n",
      "ters:RajakumarS\n",
      "item:SRajakumar\n",
      "normal:SRajakumar\n",
      "ters:RajakumarS\n",
      "item:BRajakumar\n",
      "normal:RajakumarS\n",
      "ters:SRajakumar\n",
      "item:BRajakumar\n",
      "normal:RajakumarS\n",
      "ters:SRajakumar\n",
      "item:SRajakumar\n",
      "normal:RajakumarS\n",
      "ters:SRajakumar\n",
      "item:RajakumarS\n",
      "normal:RajalakshmiR\n",
      "ters:RRajalakshmi\n",
      "item:BRajakumar\n",
      "normal:RajalakshmiR\n",
      "ters:RRajalakshmi\n",
      "item:BRajakumar\n",
      "normal:RajalakshmiR\n",
      "ters:RRajalakshmi\n",
      "item:SRajakumar\n",
      "normal:RajalakshmiR\n",
      "ters:RRajalakshmi\n",
      "item:BRajakumar\n",
      "normal:RRajalakshmi\n",
      "ters:RajalakshmiR\n",
      "item:RajakumarS\n",
      "normal:RRajalakshmi\n",
      "ters:RajalakshmiR\n",
      "item:BRajakumar\n",
      "normal:RRajalakshmi\n",
      "ters:RajalakshmiR\n",
      "item:SRajakumar\n",
      "normal:RRajalakshmi\n",
      "ters:RajalakshmiR\n",
      "item:RajalakshmiR\n",
      "normal:RRajalakshmi\n",
      "ters:RajalakshmiR\n",
      "item:BRajakumar\n",
      "normal:RajanChoudhary\n",
      "ters:ChoudharyRajan\n",
      "item:RajakumarS\n",
      "normal:RajanChoudhary\n",
      "ters:ChoudharyRajan\n",
      "item:BRajakumar\n",
      "normal:RajanChoudhary\n",
      "ters:ChoudharyRajan\n",
      "item:SRajakumar\n",
      "normal:RajanChoudhary\n",
      "ters:ChoudharyRajan\n",
      "item:RajalakshmiR\n",
      "normal:RajanChoudhary\n",
      "ters:ChoudharyRajan\n",
      "item:RRajalakshmi\n",
      "normal:RajanChoudhary\n",
      "ters:ChoudharyRajan\n",
      "item:BRajakumar\n",
      "normal:RajanChoudhary\n",
      "ters:ChoudharyRajan\n",
      "item:RajakumarS\n",
      "normal:RajanChoudhary\n",
      "ters:ChoudharyRajan\n",
      "item:BRajakumar\n",
      "normal:RajanChoudhary\n",
      "ters:ChoudharyRajan\n",
      "item:SRajakumar\n",
      "normal:RajanChoudhary\n",
      "ters:ChoudharyRajan\n",
      "item:RajanChoudhary\n",
      "normal:RajanChoudhary\n",
      "ters:ChoudharyRajan\n",
      "item:RajalakshmiR\n",
      "normal:RajanChoudhary\n",
      "ters:ChoudharyRajan\n",
      "item:RRajalakshmi\n",
      "normal:RajanChoudhary\n",
      "ters:ChoudharyRajan\n",
      "B Rajakumar\n",
      "Rajakumar S\n",
      "B. Rajakumar\n",
      "S. Rajakumar\n",
      "Rajan Choudhary\n",
      "Rajalakshmi R\n",
      "R. Rajalakshmi\n",
      "7\n"
     ]
    }
   ],
   "execution_count": 149
  },
  {
   "metadata": {
    "ExecuteTime": {
     "end_time": "2024-12-03T19:17:32.465629Z",
     "start_time": "2024-12-03T19:17:32.463304Z"
    }
   },
   "cell_type": "code",
   "source": "\n",
   "id": "efe9d8feaa88de7f",
   "outputs": [],
   "execution_count": 86
  },
  {
   "metadata": {
    "ExecuteTime": {
     "end_time": "2024-12-03T14:07:48.979639Z",
     "start_time": "2024-12-03T14:07:48.976411Z"
    }
   },
   "cell_type": "code",
   "source": [
    "class Doi:\n",
    "\n",
    "    def __init__(self,paper):\n",
    "        self.paper = paper"
   ],
   "id": "21e4add56e938067",
   "outputs": [],
   "execution_count": 74
  },
  {
   "metadata": {
    "ExecuteTime": {
     "end_time": "2024-12-03T14:07:49.449476Z",
     "start_time": "2024-12-03T14:07:49.427437Z"
    }
   },
   "cell_type": "code",
   "source": [
    "if __name__ == \"__main__\":\n",
    "    dois= set()\n",
    "    for spec,paper in zip(doi,paper_title):\n",
    "        if spec not in dois:\n",
    "            spec=Doi(paper)\n",
    "        dois.add(spec)"
   ],
   "id": "82b835c7abb76f8a",
   "outputs": [],
   "execution_count": 75
  },
  {
   "metadata": {
    "ExecuteTime": {
     "end_time": "2024-12-03T14:07:49.985222Z",
     "start_time": "2024-12-03T14:07:49.978200Z"
    }
   },
   "cell_type": "code",
   "source": [
    "with open(\"/Users/enesdemir/Desktop/ProLab3/enes.txt\", 'w') as f:\n",
    "    for spec in dois:\n",
    "        f.write(f\"{spec.paper}\\n\")"
   ],
   "id": "3a084c35f703ab61",
   "outputs": [],
   "execution_count": 76
  },
  {
   "metadata": {},
   "cell_type": "code",
   "outputs": [],
   "execution_count": null,
   "source": "",
   "id": "e5248ad4c631f265"
  }
 ],
 "metadata": {
  "kernelspec": {
   "display_name": "Python 3",
   "language": "python",
   "name": "python3"
  },
  "language_info": {
   "codemirror_mode": {
    "name": "ipython",
    "version": 2
   },
   "file_extension": ".py",
   "mimetype": "text/x-python",
   "name": "python",
   "nbconvert_exporter": "python",
   "pygments_lexer": "ipython2",
   "version": "2.7.6"
  }
 },
 "nbformat": 4,
 "nbformat_minor": 5
}
